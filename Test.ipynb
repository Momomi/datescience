{
  "nbformat": 4,
  "nbformat_minor": 0,
  "metadata": {
    "colab": {
      "provenance": [],
      "toc_visible": true,
      "authorship_tag": "ABX9TyOczzpmC/Zc0zlsyQA1rW4w",
      "include_colab_link": true
    },
    "kernelspec": {
      "name": "python3",
      "display_name": "Python 3"
    },
    "language_info": {
      "name": "python"
    }
  },
  "cells": [
    {
      "cell_type": "markdown",
      "metadata": {
        "id": "view-in-github",
        "colab_type": "text"
      },
      "source": [
        "<a href=\"https://colab.research.google.com/github/Momomi/datescience/blob/main/Test.ipynb\" target=\"_parent\"><img src=\"https://colab.research.google.com/assets/colab-badge.svg\" alt=\"Open In Colab\"/></a>"
      ]
    },
    {
      "cell_type": "code",
      "source": [
        "import numpy as np\n",
        "a = np.full((1, 5), np.e).T.ravel()\n",
        "b = np.linspace(0, 1, 5)\n",
        "c = np.hstack([a, b])\n",
        "print(a[-1], c[-1])"
      ],
      "metadata": {
        "id": "vGWYYmL1XqQU"
      },
      "execution_count": null,
      "outputs": []
    },
    {
      "cell_type": "code",
      "source": [
        "import numpy as np\n",
        "list_a=[1,4,6]\n",
        "array_a=np.array(list_a)\n",
        "list_b=[3,2,1]\n",
        "array_b= np.array(list_b)\n",
        "list_c= list_a+list_b\n",
        "array_c=array_a+array_b\n",
        "print(list_c)\n",
        "print(array_c)"
      ],
      "metadata": {
        "id": "VRyfeAWZ1X8l"
      },
      "execution_count": null,
      "outputs": []
    },
    {
      "cell_type": "code",
      "source": [
        "%matplotlib inline\n",
        "import numpy as np\n",
        "import matplotlib. pyplot as plt\n",
        "np.random.seed(0)\n",
        "n, alpha, beta=100, 2, 3\n",
        "sigma=1\n",
        "array_x=np.random.uniform(-1,5,n)\n",
        "array_y=alpha*array_x+beta+np.random.normal(0,sigma,n)\n",
        "print(array_x)\n",
        "print(array_y)\n",
        "plt.scatter(array_x,array_y)\n",
        "from sklearn.linear_model import LinearRegression\n",
        "arr2d_X=array_x.reshape(n,1)\n",
        "reg=LinearRegression()\n",
        "reg.fit(arr2d_X,array_y)\n",
        "print(reg.coef_)\n",
        "print(reg.intercept_)\n",
        "arr2d_predX=np.array([[min(array_x)],[max(array_x)]])\n",
        "array_predy=reg.predict(arr2d_predX)\n",
        "print(array_predy)\n",
        "plt.scatter(array_x,array_y)\n",
        "plt.plot(arr2d_predX, array_predy, c='blue')\n"
      ],
      "metadata": {
        "colab": {
          "base_uri": "https://localhost:8080/",
          "height": 1000
        },
        "id": "V4HtRAErIcyG",
        "outputId": "0865e318-7f5b-4b0b-f9df-2eb9eb1f2111",
        "collapsed": true
      },
      "execution_count": null,
      "outputs": [
        {
          "output_type": "stream",
          "name": "stdout",
          "text": [
            "[ 2.29288102  3.2911362   2.61658026  2.2692991   1.5419288   2.87536468\n",
            "  1.62552327  4.350638    4.78197656  1.30064911  3.75035023  2.17336952\n",
            "  2.40826737  4.55357983 -0.57378365 -0.4772242  -0.87868962  3.99571907\n",
            "  3.66894051  4.22007289  4.87171005  3.79495139  1.76887617  3.68317506\n",
            " -0.29035344  2.83952613 -0.13988028  4.6680135   2.13108993  1.48797164\n",
            "  0.58733367  3.64540214  1.73690199  2.41060369 -0.8872612   2.70581298\n",
            "  2.67257434  2.70160398  4.66248847  3.09092179  1.1570474   1.62219172\n",
            "  3.18578718 -0.63864717  3.00060029  3.02382722  0.26229537 -0.22644221\n",
            "  0.89257011  1.18226463  2.42118062  1.63160908  4.93024303 -0.38773114\n",
            "  0.25326054 -0.03214289  2.91864995  0.51974962  1.79786464  0.46655355\n",
            " -0.0461825  -0.33774915  2.93797754 -0.17090229  0.17949417  1.21235102\n",
            "  3.92595938 -0.41739235  4.02766944 -0.42340955  4.85875679  1.81190721\n",
            "  4.86056653  2.62907312  3.43558148 -0.76487325  0.69684178 -0.27882063\n",
            "  0.77684119 -0.28763369  0.90789908  1.48557797 -0.61511502  3.15483272\n",
            "  2.39960873  0.59233695  2.13948832 -0.43635694  2.45567897  4.57577719\n",
            "  0.91141371  3.00446228 -0.20921283  3.29796322  0.73643656  0.09914817\n",
            "  2.51907761 -0.87935472  3.97364018 -0.97182714]\n",
            "[ 6.42061221 10.48309888  8.69882295  6.00235451  7.57210979 10.64661853\n",
            "  7.42982611 11.52135117 11.4932005   6.65574995 10.09752351  8.56918411\n",
            "  8.02480971 13.0837987   2.2087991   2.75212476  1.25312079 12.77730864\n",
            " 10.4647931  11.84213514 14.6265708   9.24214371  5.26726735 11.33574682\n",
            "  1.24616971 10.62267344  2.30662047 11.58857219  9.18512189  7.45645807\n",
            "  6.04222631 11.19684893  5.6125783   9.73127234  0.95747423  9.21408236\n",
            "  9.29240064  8.24819787 12.93905631 10.10405026  5.69052034  5.14498266\n",
            "  9.66981253  3.04909156  8.30663273  8.8980199   3.08943718  4.3963793\n",
            "  5.45743497  5.77199109  7.07244517  6.80246735 12.1861534   2.25636829\n",
            "  2.87067499  3.61214751  9.41389072  3.83120047  6.99173599  2.8400456\n",
            "  1.41637741  2.7638934   9.04262857  3.29322685  5.74213312  6.36918153\n",
            "  9.93909653  3.2822316   9.73943148  1.69159629 12.64927197  8.33715714\n",
            " 11.97637824  7.4317077   9.77271043  0.80677522  5.52031947  1.36242723\n",
            "  3.40621372  1.98691258  4.3177657   7.90068799  2.71919076  9.39721667\n",
            "  6.57378193  5.02903687  6.27876129  0.58251503  9.09938774 12.46849698\n",
            "  5.74368625  9.32765221  3.43840496  8.94490086  3.43863027  3.87989086\n",
            "  7.23474555  0.55174078 10.49174785  1.07382487]\n",
            "[1.98948917]\n",
            "3.211640247680903\n",
            "[ 1.27820067 13.02030536]\n"
          ]
        },
        {
          "output_type": "execute_result",
          "data": {
            "text/plain": [
              "[<matplotlib.lines.Line2D at 0x7fd06e1a3280>]"
            ]
          },
          "metadata": {},
          "execution_count": 5
        },
        {
          "output_type": "display_data",
          "data": {
            "text/plain": [
              "<Figure size 640x480 with 1 Axes>"
            ],
            "image/png": "[encoded data removed]"
          },
          "metadata": {}
        }
      ]
    },
    {
      "cell_type": "markdown",
      "source": [
        "# 新しいセクション"
      ],
      "metadata": {
        "id": "0ysGuSh2bJ_A"
      }
    },
    {
      "cell_type": "code",
      "source": [
        "%matplotlib inline\n",
        "from sklearn.linear_model import LinearRegression\n",
        "import numpy as np\n",
        "import matplotlib. pyplot as pl\n",
        "arr2d_data=np.loadtxt(fname=\"reg.csv\",delimiter=\",\")\n",
        "array_x=arr2d_data[:,0]\n",
        "array_y=arr2d_data[:,1]\n",
        "n=array_x.size\n",
        "arr2d_X=array_x. reshape(n,1)\n",
        "reg=LinearRegression()\n",
        "reg.fit(arr2d_X,array_y)\n",
        "print('{0:.2f}'.format(reg.coef_[0]))\n",
        "print('{0:.2f}'.format(reg.intercept_))"
      ],
      "metadata": {
        "id": "SzHBF4qNNdZG"
      },
      "execution_count": null,
      "outputs": []
    },
    {
      "cell_type": "code",
      "source": [
        "import numpy as np\n",
        "from sklearn. linear_model import LinearRegression\n",
        "arr2d_data=np.loadtxt(fname=\"data2.csv\",delimiter=\",\")\n",
        "array_y=arr2d_data[:,0]\n",
        "arr2d_X=arr2d_data[:,1:]\n",
        "reg=LinearRegression()\n",
        "reg.fit(arr2d_X,array_y)\n",
        "print('{0:.2f}'.format(reg.intercept_))\n",
        "print('{0:.2f}'.format(reg.coef_[0]))\n",
        "print('{0:.2f}'.format(reg.coef_[1]))\n",
        "print('{0:.2f}'.format(reg.coef_[2]))"
      ],
      "metadata": {
        "id": "aYd8_DtsOcXO"
      },
      "execution_count": null,
      "outputs": []
    },
    {
      "cell_type": "markdown",
      "source": [
        "# 新しいセクション"
      ],
      "metadata": {
        "id": "6QdhAc4_Ias7"
      }
    },
    {
      "cell_type": "code",
      "source": [
        "from google.colab import files\n",
        "uploaded = files.upload()"
      ],
      "metadata": {
        "colab": {
          "base_uri": "https://localhost:8080/",
          "height": 78
        },
        "id": "qH9aHZC24o7Z",
        "outputId": "6ed73961-8a81-4968-a6f6-c25fec403884"
      },
      "execution_count": null,
      "outputs": [
        {
          "output_type": "display_data",
          "data": {
            "text/plain": [
              "<IPython.core.display.HTML object>"
            ],
            "text/html": [
              "\n",
              "     <input type=\"file\" id=\"files-2b4cdbe7-0f83-4c02-b91c-59ace4dbefb9\" name=\"files[]\" multiple disabled\n",
              "        style=\"border:none\" />\n",
              "     <output id=\"result-2b4cdbe7-0f83-4c02-b91c-59ace4dbefb9\">\n",
              "      Upload widget is only available when the cell has been executed in the\n",
              "      current browser session. Please rerun this cell to enable.\n",
              "      </output>\n",
              "      <script>// Copyright 2017 Google LLC\n",
              "//\n",
              "// Licensed under the Apache License, Version 2.0 (the \"License\");\n",
              "// you may not use this file except in compliance with the License.\n",
              "// You may obtain a copy of the License at\n",
              "//\n",
              "//      http://www.apache.org/licenses/LICENSE-2.0\n",
              "//\n",
              "// Unless required by applicable law or agreed to in writing, software\n",
              "// distributed under the License is distributed on an \"AS IS\" BASIS,\n",
              "// WITHOUT WARRANTIES OR CONDITIONS OF ANY KIND, either express or implied.\n",
              "// See the License for the specific language governing permissions and\n",
              "// limitations under the License.\n",
              "\n",
              "/**\n",
              " * @fileoverview Helpers for google.colab Python module.\n",
              " */\n",
              "(function(scope) {\n",
              "function span(text, styleAttributes = {}) {\n",
              "  const element = document.createElement('span');\n",
              "  element.textContent = text;\n",
              "  for (const key of Object.keys(styleAttributes)) {\n",
              "    element.style[key] = styleAttributes[key];\n",
              "  }\n",
              "  return element;\n",
              "}\n",
              "\n",
              "// Max number of bytes which will be uploaded at a time.\n",
              "const MAX_PAYLOAD_SIZE = 100 * 1024;\n",
              "\n",
              "function _uploadFiles(inputId, outputId) {\n",
              "  const steps = uploadFilesStep(inputId, outputId);\n",
              "  const outputElement = document.getElementById(outputId);\n",
              "  // Cache steps on the outputElement to make it available for the next call\n",
              "  // to uploadFilesContinue from Python.\n",
              "  outputElement.steps = steps;\n",
              "\n",
              "  return _uploadFilesContinue(outputId);\n",
              "}\n",
              "\n",
              "// This is roughly an async generator (not supported in the browser yet),\n",
              "// where there are multiple asynchronous steps and the Python side is going\n",
              "// to poll for completion of each step.\n",
              "// This uses a Promise to block the python side on completion of each step,\n",
              "// then passes the result of the previous step as the input to the next step.\n",
              "function _uploadFilesContinue(outputId) {\n",
              "  const outputElement = document.getElementById(outputId);\n",
              "  const steps = outputElement.steps;\n",
              "\n",
              "  const next = steps.next(outputElement.lastPromiseValue);\n",
              "  return Promise.resolve(next.value.promise).then((value) => {\n",
              "    // Cache the last promise value to make it available to the next\n",
              "    // step of the generator.\n",
              "    outputElement.lastPromiseValue = value;\n",
              "    return next.value.response;\n",
              "  });\n",
              "}\n",
              "\n",
              "/**\n",
              " * Generator function which is called between each async step of the upload\n",
              " * process.\n",
              " * @param {string} inputId Element ID of the input file picker element.\n",
              " * @param {string} outputId Element ID of the output display.\n",
              " * @return {!Iterable<!Object>} Iterable of next steps.\n",
              " */\n",
              "function* uploadFilesStep(inputId, outputId) {\n",
              "  const inputElement = document.getElementById(inputId);\n",
              "  inputElement.disabled = false;\n",
              "\n",
              "  const outputElement = document.getElementById(outputId);\n",
              "  outputElement.innerHTML = '';\n",
              "\n",
              "  const pickedPromise = new Promise((resolve) => {\n",
              "    inputElement.addEventListener('change', (e) => {\n",
              "      resolve(e.target.files);\n",
              "    });\n",
              "  });\n",
              "\n",
              "  const cancel = document.createElement('button');\n",
              "  inputElement.parentElement.appendChild(cancel);\n",
              "  cancel.textContent = 'Cancel upload';\n",
              "  const cancelPromise = new Promise((resolve) => {\n",
              "    cancel.onclick = () => {\n",
              "      resolve(null);\n",
              "    };\n",
              "  });\n",
              "\n",
              "  // Wait for the user to pick the files.\n",
              "  const files = yield {\n",
              "    promise: Promise.race([pickedPromise, cancelPromise]),\n",
              "    response: {\n",
              "      action: 'starting',\n",
              "    }\n",
              "  };\n",
              "\n",
              "  cancel.remove();\n",
              "\n",
              "  // Disable the input element since further picks are not allowed.\n",
              "  inputElement.disabled = true;\n",
              "\n",
              "  if (!files) {\n",
              "    return {\n",
              "      response: {\n",
              "        action: 'complete',\n",
              "      }\n",
              "    };\n",
              "  }\n",
              "\n",
              "  for (const file of files) {\n",
              "    const li = document.createElement('li');\n",
              "    li.append(span(file.name, {fontWeight: 'bold'}));\n",
              "    li.append(span(\n",
              "        `(${file.type || 'n/a'}) - ${file.size} bytes, ` +\n",
              "        `last modified: ${\n",
              "            file.lastModifiedDate ? file.lastModifiedDate.toLocaleDateString() :\n",
              "                                    'n/a'} - `));\n",
              "    const percent = span('0% done');\n",
              "    li.appendChild(percent);\n",
              "\n",
              "    outputElement.appendChild(li);\n",
              "\n",
              "    const fileDataPromise = new Promise((resolve) => {\n",
              "      const reader = new FileReader();\n",
              "      reader.onload = (e) => {\n",
              "        resolve(e.target.result);\n",
              "      };\n",
              "      reader.readAsArrayBuffer(file);\n",
              "    });\n",
              "    // Wait for the data to be ready.\n",
              "    let fileData = yield {\n",
              "      promise: fileDataPromise,\n",
              "      response: {\n",
              "        action: 'continue',\n",
              "      }\n",
              "    };\n",
              "\n",
              "    // Use a chunked sending to avoid message size limits. See b/62115660.\n",
              "    let position = 0;\n",
              "    do {\n",
              "      const length = Math.min(fileData.byteLength - position, MAX_PAYLOAD_SIZE);\n",
              "      const chunk = new Uint8Array(fileData, position, length);\n",
              "      position += length;\n",
              "\n",
              "      const base64 = btoa(String.fromCharCode.apply(null, chunk));\n",
              "      yield {\n",
              "        response: {\n",
              "          action: 'append',\n",
              "          file: file.name,\n",
              "          data: base64,\n",
              "        },\n",
              "      };\n",
              "\n",
              "      let percentDone = fileData.byteLength === 0 ?\n",
              "          100 :\n",
              "          Math.round((position / fileData.byteLength) * 100);\n",
              "      percent.textContent = `${percentDone}% done`;\n",
              "\n",
              "    } while (position < fileData.byteLength);\n",
              "  }\n",
              "\n",
              "  // All done.\n",
              "  yield {\n",
              "    response: {\n",
              "      action: 'complete',\n",
              "    }\n",
              "  };\n",
              "}\n",
              "\n",
              "scope.google = scope.google || {};\n",
              "scope.google.colab = scope.google.colab || {};\n",
              "scope.google.colab._files = {\n",
              "  _uploadFiles,\n",
              "  _uploadFilesContinue,\n",
              "};\n",
              "})(self);\n",
              "</script> "
            ]
          },
          "metadata": {}
        },
        {
          "output_type": "stream",
          "name": "stdout",
          "text": [
            "Saving 2d.csv to 2d.csv\n"
          ]
        }
      ]
    },
    {
      "cell_type": "code",
      "source": [
        "array_x = np.loadtxt(fname=\"income.csv\",delimiter=\",\")\n",
        "print (array_x)\n",
        "m=np.mean(array_x)\n",
        "print(m)"
      ],
      "metadata": {
        "id": "-hS0B5Rt3ndW"
      },
      "execution_count": null,
      "outputs": []
    },
    {
      "cell_type": "code",
      "source": [
        "%matplotlib inline\n",
        "import numpy as np\n",
        "import matplotlib.pyplot as plt\n",
        "\n",
        "arr2d_data = np.loadtxt(fname=\"2d.csv\",delimiter =\",\")\n",
        "array_x = arr2d_data[:,0]\n",
        "array_y = arr2d_data[:,1]\n",
        "plt.scatter (array_x,array_y,s=10,c='blue',alpha=0.5)"
      ],
      "metadata": {
        "id": "c1MB-faeW88E"
      },
      "execution_count": null,
      "outputs": []
    },
    {
      "cell_type": "code",
      "source": [],
      "metadata": {
        "id": "C58r6YoUW9B0"
      },
      "execution_count": null,
      "outputs": []
    },
    {
      "cell_type": "code",
      "source": [
        "%matplotlib inline\n",
        "import numpy as np\n",
        "import matplotlib.pyplot as plt\n",
        "\n",
        "array_x = np.loadtxt(fname=\"income.csv\",delimiter =\",\")\n",
        "plt.hist (array_x,bins=30)"
      ],
      "metadata": {
        "id": "vd1hnt1GH2e4"
      },
      "execution_count": null,
      "outputs": []
    },
    {
      "cell_type": "code",
      "source": [
        "import numpy as np\n",
        "from scipy.integrate import solve_ivp\n",
        "import matplotlib.pyplot as plt\n",
        "\n",
        "# パラメータ設定\n",
        "M = 10  # 質量 (kg)\n",
        "C = 0.5  # ダンピング係数 (Ns/m)\n",
        "K = 78  # ばね定数 (N/m)\n",
        "w = 10  # 角周波数 (rad/s)\n",
        "\n",
        "# 力 F(t) の定義\n",
        "def force(t):\n",
        "    return 40 * np.sin(w * t)\n",
        "\n",
        "# 常微分方程式を定義\n",
        "def diff_eq(t, z):\n",
        "    x = z\n",
        "    x_dot=def(t)\n",
        "    x_ddot = (force(t) - C * x_dot - K * x) / M\n",
        "    return [x_dot, x_ddot]\n",
        "\n",
        "# 初期条件\n",
        "initial_conditions = [0, 0]  # x(0) = 0, x'(0) = 0\n",
        "\n",
        "# 時間の範囲\n",
        "t_span = (0, 10)\n",
        "\n",
        "# 数値的に解く\n",
        "sol = solve_ivp(diff_eq, t_span, initial_conditions, t_eval=np.linspace(0, 10, 1000))\n",
        "\n",
        "# 結果をプロット\n",
        "plt.plot(sol.t, sol.y[0])\n",
        "plt.xlabel('時間 (秒)')\n",
        "plt.ylabel('x(t)')\n",
        "plt.title('x(t) vs. 時間')\n",
        "plt.grid(True)\n",
        "plt.show()\n"
      ],
      "metadata": {
        "id": "UhfNIc12rXKU"
      },
      "execution_count": null,
      "outputs": []
    },
    {
      "cell_type": "code",
      "source": [
        "# 回答欄\n",
        "# 標準入力から値を受け取る\n",
        "# S: str 型\n",
        "S = input()\n",
        "for i in range(0,5):\n",
        "    T=\"\"\n",
        "    for c in S:\n",
        "        if c==\"A\":\n",
        "            T=T+\"Z\"\n",
        "        else:\n",
        "            T=T+chr(ord(c)-1)\n",
        "    S=T\n",
        "print(S)\n"
      ],
      "metadata": {
        "id": "jhl5RyVMOF97"
      },
      "execution_count": null,
      "outputs": []
    },
    {
      "cell_type": "code",
      "source": [
        "import numpy as np\n",
        "array_x=np.loadtxt(fname=\"data1.csv\",delimiter=\",\")\n",
        "m=np.mean(array_x)\n",
        "med=np.median(array_x)\n",
        "var=np.var(array_x)\n",
        "std=np.std(array_x)\n",
        "print('{0:.2f}'.format(m))\n",
        "print('{0:.2f}'.format(med))\n",
        "print('{0:.2f}'.format(var))\n",
        "print('{0:.2f}'.format(std))"
      ],
      "metadata": {
        "id": "UkUY_jN2R6MQ"
      },
      "execution_count": null,
      "outputs": []
    },
    {
      "cell_type": "code",
      "source": [
        "import numpy as np\n",
        "list_a=[3,5]\n",
        "list_b=[2,4]\n",
        "array_a=np.array(list_a)\n",
        "array_b=np.array(list_b)\n",
        "list_c=list_a+list_b\n",
        "array_c=array_a+array_b\n",
        "m1=max(list_c)-min(list_c)\n",
        "m2=max(array_c)-min(array_c)\n",
        "print(m1-m2)"
      ],
      "metadata": {
        "id": "r5YqNDr9RGeA"
      },
      "execution_count": null,
      "outputs": []
    },
    {
      "cell_type": "code",
      "source": [
        "import numpy as np\n",
        "arr2d_data=np.array([[-15,-5],[23,45],[-13,-23],[-76,-67]])\n",
        "array_x=arr2d_data[:,0]\n",
        "array_y=arr2d_data[:,1]\n",
        "arr2d_cov=np.cov(array_x,array_y,bias=True)\n",
        "arr2d_r=np.corrcoef(array_x,array_y)\n",
        "cov_xy=arr2d_cov[0,1]\n",
        "r_xy=arr2d_r[0,1]\n",
        "print('{0:.3f}'.format(cov_xy))\n",
        "print('{0:.3f}'.format(r_xy))"
      ],
      "metadata": {
        "id": "cvbc_hjJ3mz0"
      },
      "execution_count": null,
      "outputs": []
    },
    {
      "cell_type": "code",
      "source": [
        "%matplotlib inline\n",
        "import numpy as np\n",
        "import matplotlib.pyplot as plt\n",
        "\n",
        "np.random.seed(1)\n",
        "size=1000\n",
        "alpha,beta=2.0,8.0\n",
        "array_x = np.random.uniform(alpha,beta,size)\n",
        "plt.hist (array_x)"
      ],
      "metadata": {
        "id": "s_AwhRfZVzoc"
      },
      "execution_count": null,
      "outputs": []
    }
  ]
}